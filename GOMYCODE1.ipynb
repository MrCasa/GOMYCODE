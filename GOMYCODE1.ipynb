{
 "cells": [
  {
   "cell_type": "code",
   "execution_count": 14,
   "id": "c3533686",
   "metadata": {},
   "outputs": [
    {
     "name": "stdout",
     "output_type": "stream",
     "text": [
      "your first name:youssef\n",
      "your last name:mahdi\n",
      "mahdi youssef\n"
     ]
    }
   ],
   "source": [
    "\n",
    "fname = input (\"your first name:\")\n",
    "\n",
    "lname = input(\"your last name:\")\n",
    "print(lname, fname)"
   ]
  },
  {
   "cell_type": "code",
   "execution_count": 11,
   "id": "57442a3b",
   "metadata": {},
   "outputs": [
    {
     "name": "stdout",
     "output_type": "stream",
     "text": [
      "615\n"
     ]
    }
   ],
   "source": [
    "n=5\n",
    "nn=55\n",
    "nnn=555\n",
    "print(n+nn+nnn)"
   ]
  },
  {
   "cell_type": "code",
   "execution_count": 12,
   "id": "5bfef360",
   "metadata": {},
   "outputs": [
    {
     "name": "stdout",
     "output_type": "stream",
     "text": [
      "Enter a number: 3\n",
      "This is an odd number.\n"
     ]
    }
   ],
   "source": [
    "num = int(input(\"Enter a number: \"))\n",
    "mod = num % 2\n",
    "if mod > 0:\n",
    "    print(\"This is an odd number.\")\n",
    "else:\n",
    "    print(\"This is an even number.\")"
   ]
  },
  {
   "cell_type": "code",
   "execution_count": 13,
   "id": "7e2d3ef3",
   "metadata": {},
   "outputs": [
    {
     "name": "stdout",
     "output_type": "stream",
     "text": [
      "2002,2009,2016,2023,2037,2044,2051,2058,2072,2079,2086,2093,2107,2114,2121,2128,2142,2149,2156,2163,2177,2184,2191,2198,2212,2219,2226,2233,2247,2254,2261,2268,2282,2289,2296,2303,2317,2324,2331,2338,2352,2359,2366,2373,2387,2394,2401,2408,2422,2429,2436,2443,2457,2464,2471,2478,2492,2499,2506,2513,2527,2534,2541,2548,2562,2569,2576,2583,2597,2604,2611,2618,2632,2639,2646,2653,2667,2674,2681,2688,2702,2709,2716,2723,2737,2744,2751,2758,2772,2779,2786,2793,2807,2814,2821,2828,2842,2849,2856,2863,2877,2884,2891,2898,2912,2919,2926,2933,2947,2954,2961,2968,2982,2989,2996,3003,3017,3024,3031,3038,3052,3059,3066,3073,3087,3094,3101,3108,3122,3129,3136,3143,3157,3164,3171,3178,3192,3199\n"
     ]
    }
   ],
   "source": [
    "l=[]\n",
    "for i in range(2000, 3201):\n",
    "    if (i%7==0) and (i%5!=0):\n",
    "        l.append(str(i))\n",
    "\n",
    "print(','.join(l))\n",
    " "
   ]
  },
  {
   "cell_type": "code",
   "execution_count": 62,
   "id": "cf1da7f6",
   "metadata": {},
   "outputs": [
    {
     "name": "stdout",
     "output_type": "stream",
     "text": [
      "n:0\n",
      "0 !=1\n"
     ]
    }
   ],
   "source": [
    "n=int(input(\"n:\"))\n",
    "\n",
    "a=1\n",
    "b=\"1\"\n",
    "if (n<=1):\n",
    "    print(n,\"!=1\")\n",
    "else:    \n",
    "    for i in range(1,n+1):\n",
    "        a=a*i\n",
    "    for i in range (2,n+1):\n",
    "        b=str(i)+\"*\"+b\n",
    "    \n",
    "    print (n,\"!=\",b,\"=\",a)   "
   ]
  },
  {
   "cell_type": "code",
   "execution_count": 65,
   "id": "a5f1622e",
   "metadata": {},
   "outputs": [
    {
     "name": "stdout",
     "output_type": "stream",
     "text": [
      "hlota\n"
     ]
    }
   ],
   "source": [
    "def odd_values_string(str):  \n",
    "  result = \"\"   \n",
    "  for i in range(len(str)):  \n",
    "    if i % 2 == 0:  \n",
    "      result = result + str[i]  \n",
    "  return result  \n",
    "  \n",
    "print(odd_values_string('hello team'))  \n",
    "  "
   ]
  },
  {
   "cell_type": "code",
   "execution_count": 101,
   "id": "ceb1ad36",
   "metadata": {},
   "outputs": [
    {
     "name": "stdout",
     "output_type": "stream",
     "text": [
      "OLD PRICE1000\n",
      "50% discount\n",
      "NEW PRICE : 500.0\n"
     ]
    }
   ],
   "source": [
    "n=int(input(\"OLD PRICE\"))\n",
    "if n >(500): \n",
    "    N =n- ((n /100)*50)\n",
    "    print(\"50% discount\")\n",
    "elif (n>= 200):\n",
    "      N =n- ((n /100)*30)\n",
    "      print(\"30% discount\")\n",
    "else :\n",
    "    N =n- ((n /100)*10)\n",
    "    print(\"10% discount\")\n",
    "print (\"NEW PRICE :\",N)"
   ]
  },
  {
   "cell_type": "code",
   "execution_count": null,
   "id": "773c8103",
   "metadata": {},
   "outputs": [],
   "source": []
  }
 ],
 "metadata": {
  "kernelspec": {
   "display_name": "Python 3",
   "language": "python",
   "name": "python3"
  },
  "language_info": {
   "codemirror_mode": {
    "name": "ipython",
    "version": 3
   },
   "file_extension": ".py",
   "mimetype": "text/x-python",
   "name": "python",
   "nbconvert_exporter": "python",
   "pygments_lexer": "ipython3",
   "version": "3.8.8"
  }
 },
 "nbformat": 4,
 "nbformat_minor": 5
}
