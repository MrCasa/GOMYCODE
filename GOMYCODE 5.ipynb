{
 "cells": [
  {
   "cell_type": "code",
   "execution_count": 1,
   "id": "59f9d227",
   "metadata": {},
   "outputs": [
    {
     "name": "stdout",
     "output_type": "stream",
     "text": [
      "NumPy Array:\n",
      "[1 2 3]\n",
      "List: [1, 2, 3]\n"
     ]
    }
   ],
   "source": [
    "import numpy as np\n",
    "\n",
    "# 1d array to list\n",
    "arr = np.array([1, 2, 3])\n",
    "print(f'NumPy Array:\\n{arr}')\n",
    "\n",
    "list1 = arr.tolist()\n",
    "print(f'List: {list1}')\n"
   ]
  },
  {
   "cell_type": "code",
   "execution_count": 2,
   "id": "f2560ba1",
   "metadata": {},
   "outputs": [
    {
     "name": "stdout",
     "output_type": "stream",
     "text": [
      "Original matrix:\n",
      "[[0 1 2]\n",
      " [3 4 5]]\n",
      "Condition number of the said matrix:\n",
      "4\n"
     ]
    }
   ],
   "source": [
    "import numpy as np\n",
    "m = np.arange(6).reshape(2,3)\n",
    "print(\"Original matrix:\")\n",
    "print(m)\n",
    "result =  np.trace(m)\n",
    "print(\"Condition number of the said matrix:\")\n",
    "print(result)"
   ]
  },
  {
   "cell_type": "code",
   "execution_count": 22,
   "id": "d77cc801",
   "metadata": {},
   "outputs": [],
   "source": [
    "import numpy as np\n",
    "def higher ( a , x): \n",
    "    return a , a[a>x] , a[a>x] \n",
    "\n",
    "hi = higher (np.array([[1,2],[3,5]]) , 2)"
   ]
  },
  {
   "cell_type": "code",
   "execution_count": 23,
   "id": "e5a1241d",
   "metadata": {},
   "outputs": [
    {
     "data": {
      "text/plain": [
       "(array([[1, 2],\n",
       "        [3, 5]]),\n",
       " array([3, 5]),\n",
       " array([3, 5]))"
      ]
     },
     "execution_count": 23,
     "metadata": {},
     "output_type": "execute_result"
    }
   ],
   "source": [
    "hi"
   ]
  },
  {
   "cell_type": "code",
   "execution_count": 26,
   "id": "2c305674",
   "metadata": {},
   "outputs": [
    {
     "name": "stdout",
     "output_type": "stream",
     "text": [
      "[[2 4]\n",
      " [4 5]]\n",
      "[[6 4]\n",
      " [8 3]]\n",
      "[[ 8  8]\n",
      " [12  8]]\n"
     ]
    }
   ],
   "source": [
    "from numpy import array\n",
    "a = array([[2  , 4],\n",
    "           [4 , 5]])\n",
    "print(a)\n",
    "b =  array([[6  , 4],\n",
    "           [8 , 3]])\n",
    "print(b)\n",
    "c = a + b\n",
    "print(c)"
   ]
  },
  {
   "cell_type": "code",
   "execution_count": 24,
   "id": "43cc877c",
   "metadata": {},
   "outputs": [
    {
     "name": "stdout",
     "output_type": "stream",
     "text": [
      "Original matrix:\n",
      "\n",
      "[[0.90445924 0.06660227 0.30558961 0.21243017 0.48386151 0.15482529\n",
      "  0.45570449 0.61515543 0.73430395 0.28587958]\n",
      " [0.04835773 0.04123264 0.5094425  0.09399379 0.135452   0.33400366\n",
      "  0.74077712 0.29592137 0.86919249 0.76423223]\n",
      " [0.52270137 0.46830892 0.23115656 0.72939995 0.06727162 0.27497662\n",
      "  0.50158728 0.48832257 0.82239534 0.92999437]\n",
      " [0.92505724 0.25075158 0.20613228 0.7746175  0.24029815 0.70593446\n",
      "  0.47061818 0.80046238 0.04734679 0.28744207]\n",
      " [0.46226809 0.08497941 0.20596391 0.56588853 0.47277086 0.63825399\n",
      "  0.6084674  0.15027323 0.77645615 0.25263899]]\n",
      "\n",
      "Subtract the mean of each row of the said matrix:\n",
      "\n",
      "[[ 4.82578088e-01 -3.55278880e-01 -1.16291548e-01 -2.09450988e-01\n",
      "   6.19803521e-02 -2.67055860e-01  3.38233387e-02  1.93274275e-01\n",
      "   3.12422800e-01 -1.36001578e-01]\n",
      " [-3.34902826e-01 -3.42027907e-01  1.26181947e-01 -2.89266765e-01\n",
      "  -2.47808549e-01 -4.92568954e-02  3.57516564e-01 -8.73391841e-02\n",
      "   4.85931935e-01  3.80971681e-01]\n",
      " [ 1.90899096e-02 -3.53025404e-02 -2.72454903e-01  2.25788491e-01\n",
      "  -4.36339844e-01 -2.28634836e-01 -2.02417679e-03 -1.52888942e-02\n",
      "   3.18783882e-01  4.26382912e-01]\n",
      " [ 4.54191175e-01 -2.20114487e-01 -2.64733783e-01  3.03751436e-01\n",
      "  -2.30567913e-01  2.35068394e-01 -2.47878805e-04  3.29596322e-01\n",
      "  -4.23519268e-01 -1.83423997e-01]\n",
      " [ 4.04720322e-02 -3.36816643e-01 -2.15832148e-01  1.44092475e-01\n",
      "   5.09748042e-02  2.16457935e-01  1.86671345e-01 -2.71522830e-01\n",
      "   3.54660098e-01 -1.69157067e-01]]\n"
     ]
    }
   ],
   "source": [
    "import numpy as np\n",
    "print(\"Original matrix:\\n\")\n",
    "X = np.random.rand(5, 10)\n",
    "print(X)\n",
    "print(\"\\nSubtract the mean of each row of the said matrix:\\n\")\n",
    "Y = X - X.mean(axis=1, keepdims=True)\n",
    "print(Y)"
   ]
  },
  {
   "cell_type": "code",
   "execution_count": null,
   "id": "c69936fc",
   "metadata": {},
   "outputs": [],
   "source": []
  }
 ],
 "metadata": {
  "kernelspec": {
   "display_name": "Python 3",
   "language": "python",
   "name": "python3"
  },
  "language_info": {
   "codemirror_mode": {
    "name": "ipython",
    "version": 3
   },
   "file_extension": ".py",
   "mimetype": "text/x-python",
   "name": "python",
   "nbconvert_exporter": "python",
   "pygments_lexer": "ipython3",
   "version": "3.8.8"
  }
 },
 "nbformat": 4,
 "nbformat_minor": 5
}
